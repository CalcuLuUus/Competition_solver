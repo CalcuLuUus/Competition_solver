{
 "cells": [
  {
   "cell_type": "code",
   "execution_count": null,
   "id": "edb3e05b",
   "metadata": {},
   "outputs": [
    {
     "name": "stdout",
     "output_type": "stream",
     "text": [
      "--- 原始训练数据 (train.csv) ---\n",
      "  buyer_country_id  buyer_admin_id  item_id    create_order_time  irank\n",
      "0               xx          489859        1  2018-04-11 03:28:02      9\n",
      "1               xx         2567786        2  2018-04-14 08:24:26     26\n",
      "2               xx         3408746        3  2018-04-17 02:11:56      7\n",
      "3               xx         2801580        4  2018-04-20 10:11:17      3\n",
      "4               xx         1348149        5  2018-04-17 10:49:05      4\n",
      "\n",
      "--- 原始商品属性数据 (item_attr.csv) ---\n",
      "   item_id  cate_id  store_id  item_price\n",
      "0   140446     1413     11822           1\n",
      "1   403593     2313     19712           1\n",
      "2   252621     1682      6622           1\n",
      "3   204530     1413     11822           1\n",
      "4   340076      181     24403           1\n"
     ]
    }
   ],
   "source": [
    "import pandas as pd\n",
    "import numpy as np\n",
    "import io\n",
    "\n",
    "# --- 加载数据 ---\n",
    "# 请将下面的StringIO替换为你的文件名，例如 'train.csv'\n",
    "train_df = pd.read_csv('data/Antai_hackathon_train.csv')\n",
    "attr_df = pd.read_csv('data/Antai_hackathon_attr.csv')\n",
    "\n",
    "# 检查数据加载情况\n",
    "print(\"--- 原始训练数据 (train.csv) ---\")\n",
    "print(train_df.head())\n",
    "print(\"\\n--- 原始商品属性数据 (item_attr.csv) ---\")\n",
    "print(attr_df.head())\n",
    "\n"
   ]
  },
  {
   "cell_type": "code",
   "execution_count": 6,
   "id": "d8594764",
   "metadata": {},
   "outputs": [
    {
     "name": "stdout",
     "output_type": "stream",
     "text": [
      "(6989817, 5)\n",
      "(1924269, 4)\n",
      "--- 1. 数据合并结果 ---\n",
      "合并后表格的维度: (6989817, 8)\n",
      "合并后表格的前5行:\n",
      "  buyer_country_id  buyer_admin_id  item_id    create_order_time  irank  \\\n",
      "0               xx          489859        1  2018-04-11 03:28:02      9   \n",
      "1               xx         2567786        2  2018-04-14 08:24:26     26   \n",
      "2               xx         3408746        3  2018-04-17 02:11:56      7   \n",
      "3               xx         2801580        4  2018-04-20 10:11:17      3   \n",
      "4               xx         1348149        5  2018-04-17 10:49:05      4   \n",
      "\n",
      "   cate_id  store_id  item_price  \n",
      "0   2228.0    9694.0      4491.0  \n",
      "1   3667.0    4364.0      2751.0  \n",
      "2    153.0    8085.0       656.0  \n",
      "3   3359.0    3345.0      2501.0  \n",
      "4   1156.0    1892.0       589.0  \n",
      "\n",
      "\n"
     ]
    }
   ],
   "source": [
    "merged_df = pd.merge(train_df, attr_df, on='item_id', how='left')\n",
    "\n",
    "print(train_df.shape)\n",
    "print(attr_df.shape)\n",
    "\n",
    "# 显示合并后的表格信息\n",
    "print(\"--- 1. 数据合并结果 ---\")\n",
    "print(\"合并后表格的维度:\", merged_df.shape)\n",
    "print(\"合并后表格的前5行:\")\n",
    "print(merged_df.head())\n",
    "print(\"\\n\")"
   ]
  },
  {
   "cell_type": "code",
   "execution_count": 7,
   "id": "53b9a614",
   "metadata": {},
   "outputs": [
    {
     "name": "stdout",
     "output_type": "stream",
     "text": [
      "--- 2.1 基础统计信息 ---\n",
      "总购买记录数: 6989817\n",
      "独立用户数: 483117\n",
      "独立商品数: 1852506\n",
      "独立品类数: 3895\n",
      "独立店铺数: 77698\n",
      "\n",
      "\n"
     ]
    }
   ],
   "source": [
    "print(\"--- 2.1 基础统计信息 ---\")\n",
    "# 计算独立用户、商品、品类和店铺的数量\n",
    "num_users = merged_df['buyer_admin_id'].nunique()\n",
    "num_items = merged_df['item_id'].nunique()\n",
    "num_cates = merged_df['cate_id'].nunique()\n",
    "num_stores = merged_df['store_id'].nunique()\n",
    "\n",
    "print(f\"总购买记录数: {len(merged_df)}\")\n",
    "print(f\"独立用户数: {num_users}\")\n",
    "print(f\"独立商品数: {num_items}\")\n",
    "print(f\"独立品类数: {num_cates}\")\n",
    "print(f\"独立店铺数: {num_stores}\")\n",
    "print(\"\\n\")"
   ]
  },
  {
   "cell_type": "code",
   "execution_count": 8,
   "id": "930a0933",
   "metadata": {},
   "outputs": [
    {
     "name": "stdout",
     "output_type": "stream",
     "text": [
      "--- 2.2 用户行为深度分析 ---\n",
      "每个用户购买次数的描述性统计:\n",
      "count    483117.000000\n",
      "mean         14.468166\n",
      "std          24.996817\n",
      "min           8.000000\n",
      "25%           9.000000\n",
      "50%          11.000000\n",
      "75%          15.000000\n",
      "max       11766.000000\n",
      "Name: item_id, dtype: float64\n",
      "\n",
      "\n",
      "购买次数最多的Top 10商品:\n",
      "item_id\n",
      "7493101    31625\n",
      "516873      9295\n",
      "3964264     9006\n",
      "7557509     7253\n",
      "7482805     7078\n",
      "3058048     6097\n",
      "426022      5627\n",
      "1872817     3770\n",
      "413606      3672\n",
      "6162363     3585\n",
      "Name: count, dtype: int64\n",
      "\n",
      "\n",
      "购买次数最多的Top 10品类:\n",
      "cate_id\n",
      "563.0     341506\n",
      "2.0       210655\n",
      "1819.0    198756\n",
      "2300.0    150974\n",
      "1207.0    111600\n",
      "1817.0    109585\n",
      "1530.0     93616\n",
      "584.0      91689\n",
      "1512.0     80863\n",
      "7.0        77505\n",
      "Name: count, dtype: int64\n",
      "\n",
      "\n",
      "购买次数最多的Top 10店铺:\n",
      "store_id\n",
      "10541.0    69534\n",
      "63651.0    54106\n",
      "3426.0     32061\n",
      "2750.0     27761\n",
      "29824.0    17740\n",
      "645.0      16364\n",
      "48458.0    15125\n",
      "1801.0     14912\n",
      "26092.0    13255\n",
      "1.0        12932\n",
      "Name: count, dtype: int64\n",
      "\n",
      "\n"
     ]
    }
   ],
   "source": [
    "print(\"--- 2.2 用户行为深度分析 ---\")\n",
    "\n",
    "# 1. 每个用户的购买次数分析\n",
    "user_purchase_counts = merged_df.groupby('buyer_admin_id')['item_id'].count()\n",
    "print(\"每个用户购买次数的描述性统计:\")\n",
    "print(user_purchase_counts.describe())\n",
    "print(\"\\n\")\n",
    "\n",
    "# 2. 热门商品、品类、店铺分析 (Top 10)\n",
    "top_10_items = merged_df['item_id'].value_counts().head(10)\n",
    "top_10_cates = merged_df['cate_id'].value_counts().head(10)\n",
    "top_10_stores = merged_df['store_id'].value_counts().head(10)\n",
    "\n",
    "print(\"购买次数最多的Top 10商品:\")\n",
    "print(top_10_items)\n",
    "print(\"\\n\")\n",
    "\n",
    "print(\"购买次数最多的Top 10品类:\")\n",
    "print(top_10_cates)\n",
    "print(\"\\n\")\n",
    "\n",
    "print(\"购买次数最多的Top 10店铺:\")\n",
    "print(top_10_stores)\n",
    "print(\"\\n\")"
   ]
  },
  {
   "cell_type": "code",
   "execution_count": 9,
   "id": "1145853f",
   "metadata": {},
   "outputs": [
    {
     "name": "stdout",
     "output_type": "stream",
     "text": [
      "--- 2.3 时间规律分析 ---\n",
      "按星期几分布的购买量 (0=周一, 6=周日):\n",
      "day_of_week\n",
      "0    1021491\n",
      "1    1042842\n",
      "2    1058226\n",
      "3    1049259\n",
      "4    1055864\n",
      "5     980004\n",
      "6     782131\n",
      "Name: count, dtype: int64\n",
      "\n",
      "\n",
      "按小时分布的购买量:\n",
      "hour_of_day\n",
      "0     391727\n",
      "1     392134\n",
      "2     379994\n",
      "3     379165\n",
      "4     386147\n",
      "5     383304\n",
      "6     376736\n",
      "7     364336\n",
      "8     365594\n",
      "9     387881\n",
      "10    416622\n",
      "11    431634\n",
      "12    413292\n",
      "13    331125\n",
      "14    212999\n",
      "15    125788\n",
      "16     77711\n",
      "17     62377\n",
      "18     71766\n",
      "19    100379\n",
      "20    143258\n",
      "21    191982\n",
      "22    265408\n",
      "23    338458\n",
      "Name: count, dtype: int64\n",
      "\n",
      "\n",
      "数据记录的时间范围: 从 2018-03-13 04:01:00 到 2018-04-28 23:59:57\n",
      "\n",
      "\n"
     ]
    }
   ],
   "source": [
    "print(\"--- 2.3 时间规律分析 ---\")\n",
    "\n",
    "# 首先，将时间字符串转换为datetime对象，方便进行时间分析\n",
    "merged_df['create_order_time'] = pd.to_datetime(merged_df['create_order_time'])\n",
    "\n",
    "# 提取星期几(0=Mon, 6=Sun)和小时\n",
    "merged_df['day_of_week'] = merged_df['create_order_time'].dt.dayofweek\n",
    "merged_df['hour_of_day'] = merged_df['create_order_time'].dt.hour\n",
    "\n",
    "# 1. 按星期几分析购买量\n",
    "purchases_by_dow = merged_df['day_of_week'].value_counts().sort_index()\n",
    "print(\"按星期几分布的购买量 (0=周一, 6=周日):\")\n",
    "print(purchases_by_dow)\n",
    "print(\"\\n\")\n",
    "\n",
    "# 2. 按小时分析购买量\n",
    "purchases_by_hour = merged_df['hour_of_day'].value_counts().sort_index()\n",
    "print(\"按小时分布的购买量:\")\n",
    "print(purchases_by_hour)\n",
    "print(\"\\n\")\n",
    "\n",
    "# 3. 数据集时间跨度\n",
    "min_time = merged_df['create_order_time'].min()\n",
    "max_time = merged_df['create_order_time'].max()\n",
    "print(f\"数据记录的时间范围: 从 {min_time} 到 {max_time}\")\n",
    "print(\"\\n\")"
   ]
  },
  {
   "cell_type": "code",
   "execution_count": null,
   "id": "a10e701d",
   "metadata": {},
   "outputs": [],
   "source": [
    "\n"
   ]
  },
  {
   "cell_type": "code",
   "execution_count": null,
   "id": "f3e80608",
   "metadata": {},
   "outputs": [],
   "source": [
    "\n"
   ]
  },
  {
   "cell_type": "code",
   "execution_count": null,
   "id": "87937f05",
   "metadata": {},
   "outputs": [],
   "source": []
  }
 ],
 "metadata": {
  "kernelspec": {
   "display_name": "base",
   "language": "python",
   "name": "python3"
  },
  "language_info": {
   "codemirror_mode": {
    "name": "ipython",
    "version": 3
   },
   "file_extension": ".py",
   "mimetype": "text/x-python",
   "name": "python",
   "nbconvert_exporter": "python",
   "pygments_lexer": "ipython3",
   "version": "3.11.5"
  }
 },
 "nbformat": 4,
 "nbformat_minor": 5
}
